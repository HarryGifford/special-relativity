{
 "metadata": {
  "language_info": {
   "codemirror_mode": {
    "name": "ipython",
    "version": 3
   },
   "file_extension": ".py",
   "mimetype": "text/x-python",
   "name": "python",
   "nbconvert_exporter": "python",
   "pygments_lexer": "ipython3",
   "version": "3.9.1-final"
  },
  "orig_nbformat": 2,
  "kernelspec": {
   "name": "python3",
   "display_name": "Python 3"
  }
 },
 "nbformat": 4,
 "nbformat_minor": 2,
 "cells": [
  {
   "source": [
    "In the following discussion all units are natural (i.e. $c = 1$.)\n",
    "\n",
    "## Inputs and outputs\n",
    "\n",
    "We have a set of points in 3D space which are then triangulated to represent the surface of a 3D object. We call this a triangular mesh.\n",
    "\n",
    "We also have a scene, which is made up of a camera, lights and meshes and a set of transformations which tell us how to translate, rotate and scale the objects.\n",
    "\n",
    "## Lorentz boost\n",
    "\n",
    "Given a coordinate $(\\vec{x}, t)$ in one space we want to find new coordinates $(\\vec{x}', t')$ in a frame with velocity $\\vec{v}$.\n",
    "\n",
    "$$\n",
    "\\begin{align}\n",
    "\\vec{x}' &= \\vec{x} + \\left(\\frac{\\gamma - 1}{\\left\\langle \\vec{v}, \\vec{v}\\right\\rangle}\\left\\langle \\vec{v},\\vec{x}\\right\\rangle - \\gamma t\\right) \\vec{v}\\\\\n",
    "t' &= \\gamma\\left(t - \\left\\langle \\vec{v},\\vec{x}\\right\\rangle\\right)\n",
    "\\end{align}\n",
    "$$\n",
    "\n",
    "For the background we have points at infinity so the above formulas don't work. But we can derive a boosted direction vector by taking the above expression and taking a limit as the length of $x$ goes to infinity. If we assume we have a direction $\\hat{x}$ then\n",
    "\n",
    "$$\n",
    "\\begin{align}\n",
    "\\hat{x}' &= \\frac{\\hat{x} + \\left(\\gamma - 1\\right) \\left\\langle \\hat{v},\\hat{x}\\right\\rangle \\hat{v}}{\\left\\lVert\\hat{x} + \\left(\\gamma - 1\\right) \\left\\langle \\hat{v},\\hat{x}\\right\\rangle \\hat{v}\\right\\rVert}\n",
    "\\end{align}\n",
    "$$\n",
    "\n",
    "where $\\hat{x}$ means a vector with unit length.\n",
    "\n",
    "## Doppler shift\n",
    "\n",
    "The only information we have about the color of an object is from RGB textures. So we assume that for a given texture color, the light reflected from that point in the point's reference frame will be given in three wavelengths: red, green and blue in proportion to the RGB texture values. For mapping purposes, I assumed the following wavelength conversions:\n",
    "\n",
    "| Color | Wavelength (nm) |\n",
    "| ------| ---------------:|\n",
    "| Red   | 626             |\n",
    "| Green | 534             |\n",
    "| Blue  | 465             |\n",
    "\n",
    "For mapping intensity, I didn't use anything formal and instead used a mapping that resulted in something that looks reasonable."
   ],
   "cell_type": "markdown",
   "metadata": {}
  }
 ]
}